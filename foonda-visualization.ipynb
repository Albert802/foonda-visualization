{
 "cells": [
  {
   "cell_type": "code",
   "execution_count": 1,
   "id": "a49b8744",
   "metadata": {},
   "outputs": [],
   "source": [
    "import pandas as pd\n",
    "import matplotlib.pyplot as plt\n",
    "\n",
    "\n",
    "u={\"01-01-2022\":300 ,\n",
    "   \"02-01-2022\":500,\n",
    "   \"03-01-2022\":700,\n",
    "   \"04-01-2022\":1300,\n",
    "   \"05-01-2022\":2000,\n",
    "   \"06-01-2022\":3000,\n",
    "   \"07-01-2022\":3500,\n",
    "  \"08-01-2022\":4000,\n",
    "  \"09-01-2022\":4500,\n",
    "  \"10-01-2022\":5000,\n",
    "  \"11-01-2022\":20000,\n",
    "  \"12-01-2022\":35000,\n",
    "  \"13-01-2022\":46000,\n",
    "  \"14-01-2022\":70000,\n",
    "  \"15-01-2022\":90000,}\n",
    "  \n",
    "  "
   ]
  },
  {
   "cell_type": "code",
   "execution_count": 2,
   "id": "3771c0a9",
   "metadata": {},
   "outputs": [],
   "source": [
    "D= []\n",
    "num= []\n",
    "for i in u :\n",
    "    num = num + [u[i]]\n",
    "    D = D + [i]  "
   ]
  },
  {
   "cell_type": "code",
   "execution_count": 3,
   "id": "4a275e6b",
   "metadata": {},
   "outputs": [],
   "source": [
    "DF = pd.DataFrame({'Date':D,'number_of_users':num})"
   ]
  },
  {
   "cell_type": "code",
   "execution_count": 4,
   "id": "c81d5398",
   "metadata": {},
   "outputs": [
    {
     "data": {
      "text/html": [
       "<div>\n",
       "<style scoped>\n",
       "    .dataframe tbody tr th:only-of-type {\n",
       "        vertical-align: middle;\n",
       "    }\n",
       "\n",
       "    .dataframe tbody tr th {\n",
       "        vertical-align: top;\n",
       "    }\n",
       "\n",
       "    .dataframe thead th {\n",
       "        text-align: right;\n",
       "    }\n",
       "</style>\n",
       "<table border=\"1\" class=\"dataframe\">\n",
       "  <thead>\n",
       "    <tr style=\"text-align: right;\">\n",
       "      <th></th>\n",
       "      <th>Date</th>\n",
       "      <th>number_of_users</th>\n",
       "    </tr>\n",
       "  </thead>\n",
       "  <tbody>\n",
       "    <tr>\n",
       "      <th>0</th>\n",
       "      <td>01-01-2022</td>\n",
       "      <td>300</td>\n",
       "    </tr>\n",
       "    <tr>\n",
       "      <th>1</th>\n",
       "      <td>02-01-2022</td>\n",
       "      <td>500</td>\n",
       "    </tr>\n",
       "    <tr>\n",
       "      <th>2</th>\n",
       "      <td>03-01-2022</td>\n",
       "      <td>700</td>\n",
       "    </tr>\n",
       "    <tr>\n",
       "      <th>3</th>\n",
       "      <td>04-01-2022</td>\n",
       "      <td>1300</td>\n",
       "    </tr>\n",
       "    <tr>\n",
       "      <th>4</th>\n",
       "      <td>05-01-2022</td>\n",
       "      <td>2000</td>\n",
       "    </tr>\n",
       "    <tr>\n",
       "      <th>5</th>\n",
       "      <td>06-01-2022</td>\n",
       "      <td>3000</td>\n",
       "    </tr>\n",
       "    <tr>\n",
       "      <th>6</th>\n",
       "      <td>07-01-2022</td>\n",
       "      <td>3500</td>\n",
       "    </tr>\n",
       "    <tr>\n",
       "      <th>7</th>\n",
       "      <td>08-01-2022</td>\n",
       "      <td>4000</td>\n",
       "    </tr>\n",
       "    <tr>\n",
       "      <th>8</th>\n",
       "      <td>09-01-2022</td>\n",
       "      <td>4500</td>\n",
       "    </tr>\n",
       "    <tr>\n",
       "      <th>9</th>\n",
       "      <td>10-01-2022</td>\n",
       "      <td>5000</td>\n",
       "    </tr>\n",
       "    <tr>\n",
       "      <th>10</th>\n",
       "      <td>11-01-2022</td>\n",
       "      <td>20000</td>\n",
       "    </tr>\n",
       "    <tr>\n",
       "      <th>11</th>\n",
       "      <td>12-01-2022</td>\n",
       "      <td>35000</td>\n",
       "    </tr>\n",
       "    <tr>\n",
       "      <th>12</th>\n",
       "      <td>13-01-2022</td>\n",
       "      <td>46000</td>\n",
       "    </tr>\n",
       "    <tr>\n",
       "      <th>13</th>\n",
       "      <td>14-01-2022</td>\n",
       "      <td>70000</td>\n",
       "    </tr>\n",
       "    <tr>\n",
       "      <th>14</th>\n",
       "      <td>15-01-2022</td>\n",
       "      <td>90000</td>\n",
       "    </tr>\n",
       "  </tbody>\n",
       "</table>\n",
       "</div>"
      ],
      "text/plain": [
       "          Date  number_of_users\n",
       "0   01-01-2022              300\n",
       "1   02-01-2022              500\n",
       "2   03-01-2022              700\n",
       "3   04-01-2022             1300\n",
       "4   05-01-2022             2000\n",
       "5   06-01-2022             3000\n",
       "6   07-01-2022             3500\n",
       "7   08-01-2022             4000\n",
       "8   09-01-2022             4500\n",
       "9   10-01-2022             5000\n",
       "10  11-01-2022            20000\n",
       "11  12-01-2022            35000\n",
       "12  13-01-2022            46000\n",
       "13  14-01-2022            70000\n",
       "14  15-01-2022            90000"
      ]
     },
     "execution_count": 4,
     "metadata": {},
     "output_type": "execute_result"
    }
   ],
   "source": [
    "DF"
   ]
  },
  {
   "cell_type": "code",
   "execution_count": 5,
   "id": "c1bab2d9",
   "metadata": {},
   "outputs": [
    {
     "data": {
      "text/plain": [
       "<AxesSubplot:xlabel='number_of_users', ylabel='Date'>"
      ]
     },
     "execution_count": 5,
     "metadata": {},
     "output_type": "execute_result"
    },
    {
     "data": {
      "image/png": "[encoded data removed]",
      "text/plain": [
       "<Figure size 432x288 with 1 Axes>"
      ]
     },
     "metadata": {
      "needs_background": "light"
     },
     "output_type": "display_data"
    }
   ],
   "source": [
    "#SCATTER PLOT\n",
    "DF.plot.scatter(x=\"number_of_users\",y=\"Date\")"
   ]
  },
  {
   "cell_type": "code",
   "execution_count": 6,
   "id": "348e7f0e",
   "metadata": {},
   "outputs": [],
   "source": [
    "#Box and Whisker\n",
    "DF.to_excel('foonda_1.xlsx')"
   ]
  },
  {
   "cell_type": "code",
   "execution_count": 7,
   "id": "2cd6f311",
   "metadata": {},
   "outputs": [],
   "source": [
    "DF1 = pd.read_excel('foonda_1.xlsx',index_col ='Date',parse_dates = False)"
   ]
  },
  {
   "cell_type": "code",
   "execution_count": 8,
   "id": "5ba2a8a1",
   "metadata": {},
   "outputs": [],
   "source": [
    "DF2 = DF1[\"number_of_users\"]"
   ]
  },
  {
   "cell_type": "code",
   "execution_count": 9,
   "id": "5ee6e862",
   "metadata": {},
   "outputs": [
    {
     "data": {
      "text/plain": [
       "Date\n",
       "01-01-2022      300\n",
       "02-01-2022      500\n",
       "03-01-2022      700\n",
       "04-01-2022     1300\n",
       "05-01-2022     2000\n",
       "06-01-2022     3000\n",
       "07-01-2022     3500\n",
       "08-01-2022     4000\n",
       "09-01-2022     4500\n",
       "10-01-2022     5000\n",
       "11-01-2022    20000\n",
       "12-01-2022    35000\n",
       "13-01-2022    46000\n",
       "14-01-2022    70000\n",
       "15-01-2022    90000\n",
       "Name: number_of_users, dtype: int64"
      ]
     },
     "execution_count": 9,
     "metadata": {},
     "output_type": "execute_result"
    }
   ],
   "source": [
    "DF2"
   ]
  },
  {
   "cell_type": "code",
   "execution_count": 10,
   "id": "c16cc129",
   "metadata": {},
   "outputs": [
    {
     "data": {
      "text/plain": [
       "<AxesSubplot:xlabel='Date'>"
      ]
     },
     "execution_count": 10,
     "metadata": {},
     "output_type": "execute_result"
    },
    {
     "data": {
      "image/png": "[encoded data removed]",
      "text/plain": [
       "<Figure size 432x288 with 1 Axes>"
      ]
     },
     "metadata": {
      "needs_background": "light"
     },
     "output_type": "display_data"
    }
   ],
   "source": [
    "DF2.plot()"
   ]
  },
  {
   "cell_type": "code",
   "execution_count": 11,
   "id": "f08be53f",
   "metadata": {},
   "outputs": [
    {
     "data": {
      "text/plain": [
       "<AxesSubplot:xlabel='Date'>"
      ]
     },
     "execution_count": 11,
     "metadata": {},
     "output_type": "execute_result"
    },
    {
     "data": {
      "image/png": "[encoded data removed]",
      "text/plain": [
       "<Figure size 432x288 with 1 Axes>"
      ]
     },
     "metadata": {
      "needs_background": "light"
     },
     "output_type": "display_data"
    }
   ],
   "source": [
    "DF2.plot.line()"
   ]
  },
  {
   "cell_type": "code",
   "execution_count": 12,
   "id": "80fb807e",
   "metadata": {},
   "outputs": [
    {
     "data": {
      "text/plain": [
       "<AxesSubplot:xlabel='Date'>"
      ]
     },
     "execution_count": 12,
     "metadata": {},
     "output_type": "execute_result"
    },
    {
     "data": {
      "image/png": "[encoded data removed]",
      "text/plain": [
       "<Figure size 432x288 with 1 Axes>"
      ]
     },
     "metadata": {
      "needs_background": "light"
     },
     "output_type": "display_data"
    }
   ],
   "source": [
    "DF2.plot.area()"
   ]
  },
  {
   "cell_type": "code",
   "execution_count": 13,
   "id": "5628e0f6",
   "metadata": {},
   "outputs": [
    {
     "data": {
      "text/plain": [
       "<AxesSubplot:xlabel='Date'>"
      ]
     },
     "execution_count": 13,
     "metadata": {},
     "output_type": "execute_result"
    },
    {
     "data": {
      "image/png": "[encoded data removed]",
      "text/plain": [
       "<Figure size 432x288 with 1 Axes>"
      ]
     },
     "metadata": {
      "needs_background": "light"
     },
     "output_type": "display_data"
    }
   ],
   "source": [
    "DF2.plot.bar()"
   ]
  },
  {
   "cell_type": "code",
   "execution_count": 97,
   "id": "3e3afc70",
   "metadata": {},
   "outputs": [
    {
     "data": {
      "text/plain": [
       "<AxesSubplot:ylabel='Date'>"
      ]
     },
     "execution_count": 97,
     "metadata": {},
     "output_type": "execute_result"
    },
    {
     "data": {
      "image/png": "[encoded data removed]",
      "text/plain": [
       "<Figure size 432x288 with 1 Axes>"
      ]
     },
     "metadata": {
      "needs_background": "light"
     },
     "output_type": "display_data"
    }
   ],
   "source": [
    "DF2.plot.barh()"
   ]
  },
  {
   "cell_type": "code",
   "execution_count": 98,
   "id": "8db5eb43",
   "metadata": {},
   "outputs": [
    {
     "data": {
      "text/plain": [
       "<AxesSubplot:ylabel='number_of_users'>"
      ]
     },
     "execution_count": 98,
     "metadata": {},
     "output_type": "execute_result"
    },
    {
     "data": {
      "image/png": "[encoded data removed]",
      "text/plain": [
       "<Figure size 432x288 with 1 Axes>"
      ]
     },
     "metadata": {},
     "output_type": "display_data"
    }
   ],
   "source": [
    "DF2.plot.pie()"
   ]
  },
  {
   "cell_type": "code",
   "execution_count": null,
   "id": "0240f2c2",
   "metadata": {},
   "outputs": [],
   "source": []
  },
  {
   "cell_type": "code",
   "execution_count": null,
   "id": "a48b4c17",
   "metadata": {},
   "outputs": [],
   "source": []
  }
 ],
 "metadata": {
  "kernelspec": {
   "display_name": "Python 3",
   "language": "python",
   "name": "python3"
  },
  "language_info": {
   "codemirror_mode": {
    "name": "ipython",
    "version": 3
   },
   "file_extension": ".py",
   "mimetype": "text/x-python",
   "name": "python",
   "nbconvert_exporter": "python",
   "pygments_lexer": "ipython3",
   "version": "3.8.8"
  }
 },
 "nbformat": 4,
 "nbformat_minor": 5
}
